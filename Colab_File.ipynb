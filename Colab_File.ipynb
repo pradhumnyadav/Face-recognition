{
  "nbformat": 4,
  "nbformat_minor": 0,
  "metadata": {
    "colab": {
      "name": "Untitled3.ipynb",
      "private_outputs": true,
      "provenance": [],
      "collapsed_sections": []
    },
    "kernelspec": {
      "name": "python3",
      "display_name": "Python 3"
    },
    "language_info": {
      "name": "python"
    },
    "accelerator": "GPU"
  },
  "cells": [
    {
      "cell_type": "code",
      "metadata": {
        "id": "Ol2QtTNdG06g"
      },
      "source": [
        "!pip install face_recognition"
      ],
      "execution_count": null,
      "outputs": []
    },
    {
      "cell_type": "code",
      "metadata": {
        "id": "pttZYE_rSK3p"
      },
      "source": [
        "!mkdir known\n",
        "!wget https://en.wikipedia.org/wiki/Henry_Cavill#/media/File:Henry_Cavill_by_Gage_Skidmore_2.jpg -O known/Henry.jpg\n",
        "!wget https://www.biography.com/.image/t_share/MTY2MzU3Nzk2OTM2MjMwNTkx/elon_musk_royal_society.jpg -O known/elon.jpg\n",
        "!wget https://en.wikipedia.org/wiki/Sundar_Pichai#/media/File:Sundar_Pichai_WEF_2020.png   -O known/Sundar.jpg\n",
        "\n"
      ],
      "execution_count": null,
      "outputs": []
    },
    {
      "cell_type": "code",
      "metadata": {
        "id": "LI6XRqBHTnIO"
      },
      "source": [
        "!mkdir unknown\n",
        "!wget https://i.insider.com/5ddfa893fd9db26b8a4a2df7 -O unknown/1.jpg\n",
        "!wget https://cdn-images-1.medium.com/max/1200/1*aEoYLgy4z1lT1kW7dqWzBg.jpeg -O unknown/2.jpg\n",
        "!wget https://media2.s-nbcnews.com/j/newscms/2017_46/2224911/171113-bill-gates-se-247p_043bd413c63b2a97abf11bfad747538d.fit-760w.jpg -O unknown/3.jpg\n",
        "!wget https://specials-images.forbesimg.com/imageserve/1184274010/960x0.jpg -O unknown/4.jpg"
      ],
      "execution_count": null,
      "outputs": []
    },
    {
      "cell_type": "code",
      "metadata": {
        "id": "oMTzpZJ0Xjnr"
      },
      "source": [
        "import face_recognition\n",
        "import cv2\n",
        "import os\n",
        "from google.colab.patches import cv2_imshow\n",
        "\n",
        "def read_img(path):\n",
        "    img = cv2.imread(path)\n",
        "    (h, w) = img.shape[:2]\n",
        "    width = 500\n",
        "    ratio = width / float(w)\n",
        "    height = int(h * ratio)\n",
        "    return cv2.resize(img, (width, height))\n",
        "\n",
        "\n",
        "known_encodings = []\n",
        "known_names = []\n",
        "known_dir = 'known'\n",
        "\n",
        "for file in os.listdir(known_dir):\n",
        "    img = read_img(known_dir + '/' + file)\n",
        "    img_enc = face_recognition.face_encodings(img)[0]\n",
        "    known_encodings.append(img_enc)\n",
        "    known_names.append(file.split('.')[0])\n",
        "\n",
        "unknown_dir = 'unknown'\n",
        "for file in os.listdir(unknown_dir):\n",
        "    print(\"Processing\", file)\n",
        "    img = read_img(unknown_dir + '/' + file)\n",
        "    img_enc = face_recognition.face_encodings(img)[0]\n",
        "\n",
        "    results = face_recognition.compare_faces(known_encodings, img_enc)\n",
        "    # print(face_recognition.face_distance(known_encodings, img_enc))\n",
        "\n",
        "    for i in range(len(results)):\n",
        "        if results[i]:\n",
        "            name = known_names[i]\n",
        "            (top, right, bottom, left) = face_recognition.face_locations(img)[0]\n",
        "            cv2.rectangle(img, (left, top), (right, bottom), (0, 0, 255), 2)\n",
        "            cv2.putText(img, name, (left+2, bottom+20), cv2.FONT_HERSHEY_PLAIN, 1, (255, 255, 255), 1)\n",
        "            cv2_imshow(img)"
      ],
      "execution_count": null,
      "outputs": []
    }
  ]
}